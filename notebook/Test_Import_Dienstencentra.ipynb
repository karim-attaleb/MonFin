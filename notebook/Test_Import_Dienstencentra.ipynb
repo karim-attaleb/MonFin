{
 "cells": [
  {
   "cell_type": "code",
   "execution_count": 1,
   "id": "7f0486f3",
   "metadata": {},
   "outputs": [],
   "source": [
    "import pandas as pd\n",
    "import sqlite3\n",
    "import os"
   ]
  },
  {
   "cell_type": "code",
   "execution_count": 2,
   "id": "b7e04546",
   "metadata": {},
   "outputs": [],
   "source": [
    "DIR_IN_KBO_DIENST = r\"IN\\KBOSelect\\Dienstencentra\"\n",
    "filepath = r\"C:\\Users\\freya\\OneDrive - Office 365 GPI\\Work\\RCCU\\Prog_Python\\MontFin\"\n",
    "database = r\"Db\\MontFin.db\"\n",
    "full_path = r\"C:\\Users\\freya\\OneDrive - Office 365 GPI\\Work\\RCCU\\Prog_Python\\MontFin\\IN\\KBOSelect\\Dienstencentra\\Dienstencentra.xlsx\""
   ]
  },
  {
   "cell_type": "code",
   "execution_count": 3,
   "id": "629a68f3",
   "metadata": {},
   "outputs": [
    {
     "name": "stdout",
     "output_type": "stream",
     "text": [
      "Print df Dienstencentra:     Numéro d'entreprise\\nOndernemingsnummer   \\\n",
      "0                                 564740235   \n",
      "1                                 838424646   \n",
      "2                                 899042322   \n",
      "3                                 476366208   \n",
      "4                                 890072295   \n",
      "\n",
      "                   Demandeur\\nAanvrager Type entreprise\\nType onderneming  \\\n",
      "0                        Smart Space bv   Personne morale - Rechtspersoon   \n",
      "1                         Greenville nv   Personne morale - Rechtspersoon   \n",
      "2  Coenen Stephan Investment Hasselt bv   Personne morale - Rechtspersoon   \n",
      "3                     Sceptor Vision nv   Personne morale - Rechtspersoon   \n",
      "4                          Herkerbos bv   Personne morale - Rechtspersoon   \n",
      "\n",
      "                  Type de service\\nType van diensten  \\\n",
      "0  Fourniture siege statutaire / Maatschappelijke...   \n",
      "1  Fourniture adresse commercial / Bedrijfsadres ...   \n",
      "2  Fourniture siege statutaire / Maatschappelijke...   \n",
      "3  Fourniture siege statutaire / Maatschappelijke...   \n",
      "4  Fourniture siege statutaire / Maatschappelijke...   \n",
      "\n",
      "              Adresse\\nAdres   Code postal \\nPostcode     Commune\\nGemeente   \\\n",
      "0  Gouverneur Roppesingel 83                      3500              Hasselt    \n",
      "1           Centrum Zuid 1111                     3530  Houthalen-Helchteren   \n",
      "2         Diestersteenweg 196                     3510               Hasselt   \n",
      "3        Horizonlaan 36 bus 1                     3600                  Genk   \n",
      "4        Kuringersteenweg 172                     3500               Hasselt   \n",
      "\n",
      "  Adresse(s) prestation de services \\nAdres(sen) dienstverlening   Straatcode  \\\n",
      "0  Gouverneur Roppesingel 83 3500 Hasselt (2.235....                     1045   \n",
      "1  Centrum Zuid 1111  3530 Houthalen-Helchteren (...                     1109   \n",
      "2  Diestersteenweg 196 3510 Hasselt (2.173.559.073)                      6070   \n",
      "3          Horizonlaan 36B 3600 Genk (2.095.958.578)                     4372   \n",
      "4  Kuringersteenweg 172 3500 Hasselt (2.163.287.169)                     1960   \n",
      "\n",
      "  Tél./GSM\\nTel. /gsm                     E-mail  Site web\\nWebsite   \\\n",
      "0        011 29 95 15          info@smartspace.be                NaN   \n",
      "1        011 39 72 80          info@greenville.be  www.greenville.be   \n",
      "2        011 24 16 01     stephan@domovastgoed.be                NaN   \n",
      "3       0497 40 00 09  Sceptorvision.nv@gmail.com                NaN   \n",
      "4        011 30 22 98  info@officehousehasselt.be                NaN   \n",
      "\n",
      "  Date de début d'enregistrement \\nBegin datum registratie Huisnummer  \\\n",
      "0                                         2018-10-25               83   \n",
      "1                                         2019-11-04             1111   \n",
      "2                                         2019-03-14              196   \n",
      "3                                         2019-03-25              36B   \n",
      "4                                         2019-03-25              172   \n",
      "\n",
      "        Adrescode                                           FileBase  \n",
      "0    1045-83-3500  C:\\Users\\freya\\OneDrive - Office 365 GPI\\Work\\...  \n",
      "1  1109-1111-3530  C:\\Users\\freya\\OneDrive - Office 365 GPI\\Work\\...  \n",
      "2   6070-196-3510  C:\\Users\\freya\\OneDrive - Office 365 GPI\\Work\\...  \n",
      "3   4372-36B-3600  C:\\Users\\freya\\OneDrive - Office 365 GPI\\Work\\...  \n",
      "4   1960-172-3500  C:\\Users\\freya\\OneDrive - Office 365 GPI\\Work\\...  \n"
     ]
    }
   ],
   "source": [
    "df = pd.read_excel(full_path, sheet_name=0) # first sheet\n",
    "df['FileBase'] = full_path\n",
    "print(\"Print df Dienstencentra: \", df.head())\n"
   ]
  },
  {
   "cell_type": "code",
   "execution_count": 4,
   "id": "cb701073",
   "metadata": {},
   "outputs": [
    {
     "data": {
      "text/plain": [
       "Numéro d'entreprise\\nOndernemingsnummer                                     int64\n",
       "Demandeur\\nAanvrager                                                       object\n",
       "Type entreprise\\nType onderneming                                          object\n",
       "Type de service\\nType van diensten                                         object\n",
       "Adresse\\nAdres                                                             object\n",
       "Code postal \\nPostcode                                                      int64\n",
       "Commune\\nGemeente                                                          object\n",
       "Adresse(s) prestation de services \\nAdres(sen) dienstverlening             object\n",
       "Straatcode                                                                  int64\n",
       "Tél./GSM\\nTel. /gsm                                                        object\n",
       "E-mail                                                                     object\n",
       "Site web\\nWebsite                                                          object\n",
       "Date de début d'enregistrement \\nBegin datum registratie           datetime64[ns]\n",
       "Huisnummer                                                                 object\n",
       "Adrescode                                                                  object\n",
       "FileBase                                                                   object\n",
       "dtype: object"
      ]
     },
     "execution_count": 4,
     "metadata": {},
     "output_type": "execute_result"
    }
   ],
   "source": [
    "df.dtypes"
   ]
  },
  {
   "cell_type": "code",
   "execution_count": 5,
   "id": "0e15f116",
   "metadata": {},
   "outputs": [],
   "source": [
    "df.rename(columns={\n",
    "          df.columns[0]: \"Ondernemingsnummer\",\n",
    "          df.columns[1]: \"Aanvrager\",\n",
    "          df.columns[2]: \"Type onderneming\",\n",
    "          df.columns[3]: \"Type van diensten\",\n",
    "          df.columns[4]: \"Adres\",\n",
    "          df.columns[5]: \"Postcode\",\n",
    "          df.columns[6]: \"Gemeente\",\n",
    "          df.columns[7]: \"Adres(sen) dienstverlening\",\n",
    "          df.columns[8]: \"Straatcode\",\n",
    "          df.columns[9]: \"Tel. /gsm\",\n",
    "          df.columns[10]: \"E-mail\",\n",
    "          df.columns[11]: \"Website\",\n",
    "          df.columns[12]: \"Begin datum registratie\",\n",
    "          df.columns[13]: \"Huisnummer\",\n",
    "          df.columns[14]: \"Adrescode\"}\n",
    "          , inplace=True)"
   ]
  },
  {
   "cell_type": "code",
   "execution_count": 6,
   "id": "641a1e56",
   "metadata": {},
   "outputs": [
    {
     "data": {
      "text/plain": [
       "Ondernemingsnummer                     int64\n",
       "Aanvrager                             object\n",
       "Type onderneming                      object\n",
       "Type van diensten                     object\n",
       "Adres                                 object\n",
       "Postcode                               int64\n",
       "Gemeente                              object\n",
       "Adres(sen) dienstverlening            object\n",
       "Straatcode                             int64\n",
       "Tel. /gsm                             object\n",
       "E-mail                                object\n",
       "Website                               object\n",
       "Begin datum registratie       datetime64[ns]\n",
       "Huisnummer                            object\n",
       "Adrescode                             object\n",
       "FileBase                              object\n",
       "dtype: object"
      ]
     },
     "execution_count": 6,
     "metadata": {},
     "output_type": "execute_result"
    }
   ],
   "source": [
    "df.dtypes"
   ]
  },
  {
   "cell_type": "code",
   "execution_count": null,
   "id": "5feff080",
   "metadata": {},
   "outputs": [],
   "source": []
  }
 ],
 "metadata": {
  "kernelspec": {
   "display_name": "Python 3 (ipykernel)",
   "language": "python",
   "name": "python3"
  },
  "language_info": {
   "codemirror_mode": {
    "name": "ipython",
    "version": 3
   },
   "file_extension": ".py",
   "mimetype": "text/x-python",
   "name": "python",
   "nbconvert_exporter": "python",
   "pygments_lexer": "ipython3",
   "version": "3.9.7"
  }
 },
 "nbformat": 4,
 "nbformat_minor": 5
}
