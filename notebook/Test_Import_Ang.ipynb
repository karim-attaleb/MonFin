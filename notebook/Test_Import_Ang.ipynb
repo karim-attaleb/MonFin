{
 "cells": [
  {
   "cell_type": "code",
   "execution_count": 1,
   "id": "e575be5a",
   "metadata": {},
   "outputs": [],
   "source": [
    "import pandas as pd\n",
    "import sqlite3\n",
    "import os"
   ]
  },
  {
   "cell_type": "code",
   "execution_count": 2,
   "id": "69326e02",
   "metadata": {},
   "outputs": [],
   "source": [
    "DIR_IN_ANG = r\"IN\\ANG\"\n",
    "filepath = r\"Z:\\MontFin\\Process\\IN\\ANG\"\n",
    "database = r\"Db\\MontFin.db\"\n",
    "full_path = r\"Z:\\MontFin\\Process\\IN\\ANG\\SCRCANDN.xlsx\""
   ]
  },
  {
   "cell_type": "code",
   "execution_count": 3,
   "id": "ad9f78cf",
   "metadata": {},
   "outputs": [
    {
     "name": "stdout",
     "output_type": "stream",
     "text": [
      "Print df Ang:     Embargo  Typ-info Nationaliteit   Sleutel      Naam Voornaam  \\\n",
      "0  Embargo  Info Typ   Nationalité       Clé       Nom   Prénom   \n",
      "1        0         0        BELGIE  74447394  GEERDENS    STEVE   \n",
      "2        0         0      ONBEKEND  74447686       NaN      NaN   \n",
      "3        0         0        BELGIE  74447726   VANHOVE    CHRIS   \n",
      "4        0         0        BELGIE  74448172     CLAES     KRIS   \n",
      "\n",
      "  Naam en voornaam Geboorte datum Geslacht          RRN Foto ind  \\\n",
      "0       Nom Prénom     Date Nais.     Sexe          RRN    Photo   \n",
      "1              NaN       27031977      001  77032707970      NaN   \n",
      "2              NaN       00000000      003  00000000000      NaN   \n",
      "3              NaN       18081964      001  64081841359      NaN   \n",
      "4              NaN       18081970      001  70081820307      NaN   \n",
      "\n",
      "    Foto laatste datum Foto num key  Foto datum  \\\n",
      "0  Photo dernière date    Photo Clé  Photo Date   \n",
      "1                  NaN          NaN         NaN   \n",
      "2                  NaN          NaN         NaN   \n",
      "3                  NaN          NaN         NaN   \n",
      "4                  NaN          NaN         NaN   \n",
      "\n",
      "                                  FileBase  \n",
      "0  Z:\\MontFin\\Process\\IN\\ANG\\SCRCANDN.xlsx  \n",
      "1  Z:\\MontFin\\Process\\IN\\ANG\\SCRCANDN.xlsx  \n",
      "2  Z:\\MontFin\\Process\\IN\\ANG\\SCRCANDN.xlsx  \n",
      "3  Z:\\MontFin\\Process\\IN\\ANG\\SCRCANDN.xlsx  \n",
      "4  Z:\\MontFin\\Process\\IN\\ANG\\SCRCANDN.xlsx  \n"
     ]
    }
   ],
   "source": [
    "df = pd.read_excel(full_path, sheet_name='01')\n",
    "df['FileBase'] = full_path\n",
    "print(\"Print df Ang: \", df.head())\n",
    "# wb.to_sql(name='Tbl_RawData_DRI_Ang', con=conn, if_exists='append', index=False)"
   ]
  },
  {
   "cell_type": "code",
   "execution_count": 4,
   "id": "b2f6c883",
   "metadata": {},
   "outputs": [
    {
     "data": {
      "text/plain": [
       "Embargo               object\n",
       "Typ-info              object\n",
       "Nationaliteit         object\n",
       "Sleutel               object\n",
       "Naam                  object\n",
       "Voornaam              object\n",
       "Naam en voornaam      object\n",
       "Geboorte datum        object\n",
       "Geslacht              object\n",
       "RRN                   object\n",
       "Foto ind              object\n",
       "Foto laatste datum    object\n",
       "Foto num key          object\n",
       "Foto datum            object\n",
       "FileBase              object\n",
       "dtype: object"
      ]
     },
     "execution_count": 4,
     "metadata": {},
     "output_type": "execute_result"
    }
   ],
   "source": [
    "df.dtypes"
   ]
  },
  {
   "cell_type": "code",
   "execution_count": 5,
   "id": "08126472",
   "metadata": {},
   "outputs": [
    {
     "name": "stdout",
     "output_type": "stream",
     "text": [
      "Finished\n"
     ]
    }
   ],
   "source": [
    "print(\"Finished\")"
   ]
  },
  {
   "cell_type": "code",
   "execution_count": null,
   "id": "fcba625d",
   "metadata": {},
   "outputs": [],
   "source": []
  },
  {
   "cell_type": "code",
   "execution_count": null,
   "id": "acc8412d",
   "metadata": {},
   "outputs": [],
   "source": []
  },
  {
   "cell_type": "code",
   "execution_count": null,
   "id": "1a96dc3e",
   "metadata": {},
   "outputs": [],
   "source": []
  }
 ],
 "metadata": {
  "kernelspec": {
   "display_name": "Python 3 (ipykernel)",
   "language": "python",
   "name": "python3"
  },
  "language_info": {
   "codemirror_mode": {
    "name": "ipython",
    "version": 3
   },
   "file_extension": ".py",
   "mimetype": "text/x-python",
   "name": "python",
   "nbconvert_exporter": "python",
   "pygments_lexer": "ipython3",
   "version": "3.9.12"
  }
 },
 "nbformat": 4,
 "nbformat_minor": 5
}
