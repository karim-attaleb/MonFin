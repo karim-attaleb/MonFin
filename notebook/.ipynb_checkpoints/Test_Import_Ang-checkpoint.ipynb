{
 "cells": [
  {
   "cell_type": "code",
   "execution_count": 1,
   "id": "e575be5a",
   "metadata": {},
   "outputs": [],
   "source": [
    "import pandas as pd\n",
    "import sqlite3\n",
    "import os"
   ]
  },
  {
   "cell_type": "code",
   "execution_count": 2,
   "id": "69326e02",
   "metadata": {},
   "outputs": [],
   "source": [
    "DIR_IN_ANG = r\"IN\\ANG\"\n",
    "filepath = r\"Z:\\MontFin\\Process\\IN\\ANG\"\n",
    "database = r\"Db\\MontFin.db\"\n",
    "full_path = r\"Z:\\MontFin\\Process\\IN\\ANG\\SCRCANDN.xlsx\""
   ]
  },
  {
   "cell_type": "code",
   "execution_count": 3,
   "id": "ad9f78cf",
   "metadata": {},
   "outputs": [
    {
     "name": "stdout",
     "output_type": "stream",
     "text": [
      "Print df Ang:     PL2-embargo   PL2-typ-info Pers sleutel    Fei-typ-info   fei-embargo  \\\n",
      "0  Embargo PL2  Info Type PL2     Clé Pers  Type Info Fait  Embargo Fait   \n",
      "1            0              0     74509430               0             0   \n",
      "2            0              0     74509467               0             0   \n",
      "3            0              0     74509686               0             0   \n",
      "4            0              0     74509794               0             0   \n",
      "\n",
      "                                     Aard feit 1    Aard feit 2  \\\n",
      "0                                  Nature Fait 1  Nature Fait 2   \n",
      "1         OPZETTELIJKE SLAGEN EN/OF VERWONDINGEN            NaN   \n",
      "2  GEEN MISDRIJF: BETEKENING VERVAL RECHT STUREN            NaN   \n",
      "3                                GEWONE DIEFSTAL            NaN   \n",
      "4                        OPLICHTING MET INTERNET            NaN   \n",
      "\n",
      "    Aard  feit 3       Referte     PV Nr  ... Ver. Eenheid TNM.1  \\\n",
      "0  Nature Fait 3        Réfer.     Nr PV  ...         U Resp MAP   \n",
      "1            NaN  202201324141  00571422  ...                NaN   \n",
      "2            NaN  202201323871  00378122  ...                NaN   \n",
      "3            NaN  202201322256  00675322  ...                NaN   \n",
      "4            NaN  202201320371  00628222  ...                NaN   \n",
      "\n",
      "  VervalDatum.1 Unnamed: 40 Unnamed: 41 Unnamed: 42 Unnamed: 43 Unnamed: 44  \\\n",
      "0  Dat.échéance         NaN         NaN         NaN         NaN         NaN   \n",
      "1           NaN         NaN         NaN         NaN         NaN         NaN   \n",
      "2           NaN         NaN         NaN         NaN         NaN         NaN   \n",
      "3           NaN         NaN         NaN         NaN         NaN         NaN   \n",
      "4           NaN         NaN         NaN         NaN         NaN         NaN   \n",
      "\n",
      "  Unnamed: 45 Unnamed: 46                                           FileBase  \n",
      "0         NaN         NaN  C:\\Users\\freya\\OneDrive - Office 365 GPI\\Work\\...  \n",
      "1         NaN         NaN  C:\\Users\\freya\\OneDrive - Office 365 GPI\\Work\\...  \n",
      "2         NaN         NaN  C:\\Users\\freya\\OneDrive - Office 365 GPI\\Work\\...  \n",
      "3         NaN         NaN  C:\\Users\\freya\\OneDrive - Office 365 GPI\\Work\\...  \n",
      "4         NaN         NaN  C:\\Users\\freya\\OneDrive - Office 365 GPI\\Work\\...  \n",
      "\n",
      "[5 rows x 48 columns]\n"
     ]
    }
   ],
   "source": [
    "df = pd.read_excel(full_path, sheet_name='01')\n",
    "df['FileBase'] = full_path\n",
    "print(\"Print df Ang: \", df.head())\n",
    "# wb.to_sql(name='Tbl_RawData_DRI_Ang', con=conn, if_exists='append', index=False)"
   ]
  },
  {
   "cell_type": "code",
   "execution_count": 4,
   "id": "b2f6c883",
   "metadata": {},
   "outputs": [
    {
     "data": {
      "text/plain": [
       "PL2-embargo              object\n",
       "PL2-typ-info             object\n",
       "Pers sleutel             object\n",
       "Fei-typ-info             object\n",
       "fei-embargo              object\n",
       "Aard feit 1              object\n",
       "Aard feit 2              object\n",
       "Aard  feit 3             object\n",
       "Referte                  object\n",
       "PV Nr                    object\n",
       "Prefix                   object\n",
       "Rapport Nr               object\n",
       "Register Eenheid         object\n",
       "Lage datum               object\n",
       "Hooge datum              object\n",
       "Land                     object\n",
       "Gemeente                 object\n",
       "Straat                   object\n",
       "Nr                       object\n",
       "Appart Nr                object\n",
       "Bestem. Plaats 1         object\n",
       "Bestem. Plaats Lib 1     object\n",
       "Bestem.Plaats klas 1     object\n",
       "Bestem.Plaats Lib. 1     object\n",
       "Bestem. Plaats 2         object\n",
       "Bestem. Plaats Lib 2     object\n",
       "Bestem.Plaats klas 2     object\n",
       "Bestem.Plaats Lib. 2     object\n",
       "Bestem. Plaats 3         object\n",
       "Bestem. Plaats Lib 3     object\n",
       "Bestem.Plaats klas 3     object\n",
       "Bestem.Plaats Lib. 3     object\n",
       "Reden reg.               object\n",
       "TNM                      object\n",
       "Ver. Eenheid TNM         object\n",
       "VervalDatum              object\n",
       "Reden reg..1             object\n",
       "TNM.1                    object\n",
       "Ver. Eenheid TNM.1       object\n",
       "VervalDatum.1            object\n",
       "Unnamed: 40              object\n",
       "Unnamed: 41              object\n",
       "Unnamed: 42             float64\n",
       "Unnamed: 43              object\n",
       "Unnamed: 44              object\n",
       "Unnamed: 45              object\n",
       "Unnamed: 46             float64\n",
       "FileBase                 object\n",
       "dtype: object"
      ]
     },
     "execution_count": 4,
     "metadata": {},
     "output_type": "execute_result"
    }
   ],
   "source": [
    "df.dtypes"
   ]
  },
  {
   "cell_type": "code",
   "execution_count": 5,
   "id": "08126472",
   "metadata": {},
   "outputs": [
    {
     "name": "stdout",
     "output_type": "stream",
     "text": [
      "Finished\n"
     ]
    }
   ],
   "source": [
    "print(\"Finished\")"
   ]
  },
  {
   "cell_type": "code",
   "execution_count": null,
   "id": "fcba625d",
   "metadata": {},
   "outputs": [],
   "source": []
  },
  {
   "cell_type": "code",
   "execution_count": null,
   "id": "acc8412d",
   "metadata": {},
   "outputs": [],
   "source": []
  },
  {
   "cell_type": "code",
   "execution_count": null,
   "id": "1a96dc3e",
   "metadata": {},
   "outputs": [],
   "source": []
  }
 ],
 "metadata": {
  "kernelspec": {
   "display_name": "Python 3 (ipykernel)",
   "language": "python",
   "name": "python3"
  },
  "language_info": {
   "codemirror_mode": {
    "name": "ipython",
    "version": 3
   },
   "file_extension": ".py",
   "mimetype": "text/x-python",
   "name": "python",
   "nbconvert_exporter": "python",
   "pygments_lexer": "ipython3",
   "version": "3.9.12"
  }
 },
 "nbformat": 4,
 "nbformat_minor": 5
}
